{
 "cells": [
  {
   "cell_type": "markdown",
   "metadata": {},
   "source": [
    "## S14a: Final Project - NBF - Farmer Prediction\n"
   ]
  },
  {
   "cell_type": "markdown",
   "metadata": {},
   "source": [
    "### 1.Reading in our data"
   ]
  },
  {
   "cell_type": "code",
   "execution_count": 159,
   "metadata": {
    "pycharm": {
     "name": "#%%\n"
    }
   },
   "outputs": [],
   "source": [
    "# Imports\n",
    "\n",
    "import numpy as np\n",
    "import pandas as pd"
   ]
  },
  {
   "cell_type": "code",
   "execution_count": 160,
   "metadata": {
    "pycharm": {
     "name": "#%%\n"
    }
   },
   "outputs": [
    {
     "data": {
      "text/html": [
       "<div>\n",
       "<style scoped>\n",
       "    .dataframe tbody tr th:only-of-type {\n",
       "        vertical-align: middle;\n",
       "    }\n",
       "\n",
       "    .dataframe tbody tr th {\n",
       "        vertical-align: top;\n",
       "    }\n",
       "\n",
       "    .dataframe thead th {\n",
       "        text-align: right;\n",
       "    }\n",
       "</style>\n",
       "<table border=\"1\" class=\"dataframe\">\n",
       "  <thead>\n",
       "    <tr style=\"text-align: right;\">\n",
       "      <th></th>\n",
       "      <th>Domain_Code</th>\n",
       "      <th>Domain</th>\n",
       "      <th>Area_Code</th>\n",
       "      <th>Area</th>\n",
       "      <th>Element_Code</th>\n",
       "      <th>Element</th>\n",
       "      <th>Item_Code</th>\n",
       "      <th>Item</th>\n",
       "      <th>Year_Code</th>\n",
       "      <th>Year</th>\n",
       "      <th>Unit</th>\n",
       "      <th>Value</th>\n",
       "      <th>Flag</th>\n",
       "      <th>Flag_Description</th>\n",
       "      <th>Note</th>\n",
       "    </tr>\n",
       "  </thead>\n",
       "  <tbody>\n",
       "    <tr>\n",
       "      <th>0</th>\n",
       "      <td>FBS</td>\n",
       "      <td>New Food Balances</td>\n",
       "      <td>215</td>\n",
       "      <td>United Republic of Tanzania</td>\n",
       "      <td>511</td>\n",
       "      <td>Total Population - Both sexes</td>\n",
       "      <td>2501</td>\n",
       "      <td>Population</td>\n",
       "      <td>2014</td>\n",
       "      <td>2014</td>\n",
       "      <td>1000 persons</td>\n",
       "      <td>49960.56</td>\n",
       "      <td>S</td>\n",
       "      <td>Standardized data</td>\n",
       "      <td>NaN</td>\n",
       "    </tr>\n",
       "    <tr>\n",
       "      <th>1</th>\n",
       "      <td>FBS</td>\n",
       "      <td>New Food Balances</td>\n",
       "      <td>215</td>\n",
       "      <td>United Republic of Tanzania</td>\n",
       "      <td>5301</td>\n",
       "      <td>Domestic supply quantity</td>\n",
       "      <td>2501</td>\n",
       "      <td>Population</td>\n",
       "      <td>2014</td>\n",
       "      <td>2014</td>\n",
       "      <td>1000 tonnes</td>\n",
       "      <td>0.00</td>\n",
       "      <td>S</td>\n",
       "      <td>Standardized data</td>\n",
       "      <td>NaN</td>\n",
       "    </tr>\n",
       "    <tr>\n",
       "      <th>2</th>\n",
       "      <td>FBS</td>\n",
       "      <td>New Food Balances</td>\n",
       "      <td>215</td>\n",
       "      <td>United Republic of Tanzania</td>\n",
       "      <td>511</td>\n",
       "      <td>Total Population - Both sexes</td>\n",
       "      <td>2501</td>\n",
       "      <td>Population</td>\n",
       "      <td>2015</td>\n",
       "      <td>2015</td>\n",
       "      <td>1000 persons</td>\n",
       "      <td>51482.63</td>\n",
       "      <td>S</td>\n",
       "      <td>Standardized data</td>\n",
       "      <td>NaN</td>\n",
       "    </tr>\n",
       "    <tr>\n",
       "      <th>3</th>\n",
       "      <td>FBS</td>\n",
       "      <td>New Food Balances</td>\n",
       "      <td>215</td>\n",
       "      <td>United Republic of Tanzania</td>\n",
       "      <td>5301</td>\n",
       "      <td>Domestic supply quantity</td>\n",
       "      <td>2501</td>\n",
       "      <td>Population</td>\n",
       "      <td>2015</td>\n",
       "      <td>2015</td>\n",
       "      <td>1000 tonnes</td>\n",
       "      <td>0.00</td>\n",
       "      <td>S</td>\n",
       "      <td>Standardized data</td>\n",
       "      <td>NaN</td>\n",
       "    </tr>\n",
       "    <tr>\n",
       "      <th>4</th>\n",
       "      <td>FBS</td>\n",
       "      <td>New Food Balances</td>\n",
       "      <td>215</td>\n",
       "      <td>United Republic of Tanzania</td>\n",
       "      <td>511</td>\n",
       "      <td>Total Population - Both sexes</td>\n",
       "      <td>2501</td>\n",
       "      <td>Population</td>\n",
       "      <td>2016</td>\n",
       "      <td>2016</td>\n",
       "      <td>1000 persons</td>\n",
       "      <td>53049.23</td>\n",
       "      <td>S</td>\n",
       "      <td>Standardized data</td>\n",
       "      <td>NaN</td>\n",
       "    </tr>\n",
       "  </tbody>\n",
       "</table>\n",
       "</div>"
      ],
      "text/plain": [
       "  Domain_Code             Domain  Area_Code                         Area  \\\n",
       "0         FBS  New Food Balances        215  United Republic of Tanzania   \n",
       "1         FBS  New Food Balances        215  United Republic of Tanzania   \n",
       "2         FBS  New Food Balances        215  United Republic of Tanzania   \n",
       "3         FBS  New Food Balances        215  United Republic of Tanzania   \n",
       "4         FBS  New Food Balances        215  United Republic of Tanzania   \n",
       "\n",
       "   Element_Code                        Element  Item_Code        Item  \\\n",
       "0           511  Total Population - Both sexes       2501  Population   \n",
       "1          5301       Domestic supply quantity       2501  Population   \n",
       "2           511  Total Population - Both sexes       2501  Population   \n",
       "3          5301       Domestic supply quantity       2501  Population   \n",
       "4           511  Total Population - Both sexes       2501  Population   \n",
       "\n",
       "   Year_Code  Year          Unit     Value Flag   Flag_Description  Note  \n",
       "0       2014  2014  1000 persons  49960.56    S  Standardized data   NaN  \n",
       "1       2014  2014   1000 tonnes      0.00    S  Standardized data   NaN  \n",
       "2       2015  2015  1000 persons  51482.63    S  Standardized data   NaN  \n",
       "3       2015  2015   1000 tonnes      0.00    S  Standardized data   NaN  \n",
       "4       2016  2016  1000 persons  53049.23    S  Standardized data   NaN  "
      ]
     },
     "execution_count": 160,
     "metadata": {},
     "output_type": "execute_result"
    }
   ],
   "source": [
    "# Read in data with pandas\n",
    "\n",
    "data = pd.read_csv('../data/tanzania_NFB.csv')\n",
    "# Preview\n",
    "\n",
    "data.head()"
   ]
  },
  {
   "cell_type": "code",
   "execution_count": 161,
   "metadata": {
    "pycharm": {
     "name": "#%%\n"
    }
   },
   "outputs": [
    {
     "data": {
      "text/html": [
       "<div>\n",
       "<style scoped>\n",
       "    .dataframe tbody tr th:only-of-type {\n",
       "        vertical-align: middle;\n",
       "    }\n",
       "\n",
       "    .dataframe tbody tr th {\n",
       "        vertical-align: top;\n",
       "    }\n",
       "\n",
       "    .dataframe thead th {\n",
       "        text-align: right;\n",
       "    }\n",
       "</style>\n",
       "<table border=\"1\" class=\"dataframe\">\n",
       "  <thead>\n",
       "    <tr style=\"text-align: right;\">\n",
       "      <th></th>\n",
       "      <th>Domain_Code</th>\n",
       "      <th>Domain</th>\n",
       "      <th>Area_Code</th>\n",
       "      <th>Area</th>\n",
       "      <th>Element_Code</th>\n",
       "      <th>Element</th>\n",
       "      <th>Item_Code</th>\n",
       "      <th>Item</th>\n",
       "      <th>Year_Code</th>\n",
       "      <th>Year</th>\n",
       "      <th>Unit</th>\n",
       "      <th>Value</th>\n",
       "      <th>Flag</th>\n",
       "      <th>Flag_Description</th>\n",
       "      <th>Note</th>\n",
       "    </tr>\n",
       "  </thead>\n",
       "  <tbody>\n",
       "    <tr>\n",
       "      <th>100</th>\n",
       "      <td>FBS</td>\n",
       "      <td>New Food Balances</td>\n",
       "      <td>215</td>\n",
       "      <td>United Republic of Tanzania</td>\n",
       "      <td>5123</td>\n",
       "      <td>Losses</td>\n",
       "      <td>2805</td>\n",
       "      <td>Rice and products</td>\n",
       "      <td>2015</td>\n",
       "      <td>2015</td>\n",
       "      <td>1000 tonnes</td>\n",
       "      <td>191.0</td>\n",
       "      <td>S</td>\n",
       "      <td>Standardized data</td>\n",
       "      <td>NaN</td>\n",
       "    </tr>\n",
       "    <tr>\n",
       "      <th>101</th>\n",
       "      <td>FBS</td>\n",
       "      <td>New Food Balances</td>\n",
       "      <td>215</td>\n",
       "      <td>United Republic of Tanzania</td>\n",
       "      <td>5131</td>\n",
       "      <td>Processing</td>\n",
       "      <td>2805</td>\n",
       "      <td>Rice and products</td>\n",
       "      <td>2015</td>\n",
       "      <td>2015</td>\n",
       "      <td>1000 tonnes</td>\n",
       "      <td>0.0</td>\n",
       "      <td>S</td>\n",
       "      <td>Standardized data</td>\n",
       "      <td>NaN</td>\n",
       "    </tr>\n",
       "    <tr>\n",
       "      <th>102</th>\n",
       "      <td>FBS</td>\n",
       "      <td>New Food Balances</td>\n",
       "      <td>215</td>\n",
       "      <td>United Republic of Tanzania</td>\n",
       "      <td>5154</td>\n",
       "      <td>Other uses (non-food)</td>\n",
       "      <td>2805</td>\n",
       "      <td>Rice and products</td>\n",
       "      <td>2015</td>\n",
       "      <td>2015</td>\n",
       "      <td>1000 tonnes</td>\n",
       "      <td>0.0</td>\n",
       "      <td>S</td>\n",
       "      <td>Standardized data</td>\n",
       "      <td>NaN</td>\n",
       "    </tr>\n",
       "    <tr>\n",
       "      <th>103</th>\n",
       "      <td>FBS</td>\n",
       "      <td>New Food Balances</td>\n",
       "      <td>215</td>\n",
       "      <td>United Republic of Tanzania</td>\n",
       "      <td>5171</td>\n",
       "      <td>Tourist consumption</td>\n",
       "      <td>2805</td>\n",
       "      <td>Rice and products</td>\n",
       "      <td>2015</td>\n",
       "      <td>2015</td>\n",
       "      <td>1000 tonnes</td>\n",
       "      <td>0.0</td>\n",
       "      <td>S</td>\n",
       "      <td>Standardized data</td>\n",
       "      <td>NaN</td>\n",
       "    </tr>\n",
       "    <tr>\n",
       "      <th>104</th>\n",
       "      <td>FBS</td>\n",
       "      <td>New Food Balances</td>\n",
       "      <td>215</td>\n",
       "      <td>United Republic of Tanzania</td>\n",
       "      <td>5170</td>\n",
       "      <td>Residuals</td>\n",
       "      <td>2805</td>\n",
       "      <td>Rice and products</td>\n",
       "      <td>2015</td>\n",
       "      <td>2015</td>\n",
       "      <td>1000 tonnes</td>\n",
       "      <td>-14.0</td>\n",
       "      <td>S</td>\n",
       "      <td>Standardized data</td>\n",
       "      <td>NaN</td>\n",
       "    </tr>\n",
       "  </tbody>\n",
       "</table>\n",
       "</div>"
      ],
      "text/plain": [
       "    Domain_Code             Domain  Area_Code                         Area  \\\n",
       "100         FBS  New Food Balances        215  United Republic of Tanzania   \n",
       "101         FBS  New Food Balances        215  United Republic of Tanzania   \n",
       "102         FBS  New Food Balances        215  United Republic of Tanzania   \n",
       "103         FBS  New Food Balances        215  United Republic of Tanzania   \n",
       "104         FBS  New Food Balances        215  United Republic of Tanzania   \n",
       "\n",
       "     Element_Code                Element  Item_Code               Item  \\\n",
       "100          5123                 Losses       2805  Rice and products   \n",
       "101          5131             Processing       2805  Rice and products   \n",
       "102          5154  Other uses (non-food)       2805  Rice and products   \n",
       "103          5171    Tourist consumption       2805  Rice and products   \n",
       "104          5170              Residuals       2805  Rice and products   \n",
       "\n",
       "     Year_Code  Year         Unit  Value Flag   Flag_Description  Note  \n",
       "100       2015  2015  1000 tonnes  191.0    S  Standardized data   NaN  \n",
       "101       2015  2015  1000 tonnes    0.0    S  Standardized data   NaN  \n",
       "102       2015  2015  1000 tonnes    0.0    S  Standardized data   NaN  \n",
       "103       2015  2015  1000 tonnes    0.0    S  Standardized data   NaN  \n",
       "104       2015  2015  1000 tonnes  -14.0    S  Standardized data   NaN  "
      ]
     },
     "execution_count": 161,
     "metadata": {},
     "output_type": "execute_result"
    }
   ],
   "source": [
    "# View from another angle\n",
    "\n",
    "data.iloc[100:].head()"
   ]
  },
  {
   "cell_type": "markdown",
   "metadata": {},
   "source": [
    "### 2. Explore the data"
   ]
  },
  {
   "cell_type": "code",
   "execution_count": 162,
   "metadata": {
    "pycharm": {
     "name": "#%%\n"
    }
   },
   "outputs": [
    {
     "data": {
      "text/html": [
       "<div>\n",
       "<style scoped>\n",
       "    .dataframe tbody tr th:only-of-type {\n",
       "        vertical-align: middle;\n",
       "    }\n",
       "\n",
       "    .dataframe tbody tr th {\n",
       "        vertical-align: top;\n",
       "    }\n",
       "\n",
       "    .dataframe thead th {\n",
       "        text-align: right;\n",
       "    }\n",
       "</style>\n",
       "<table border=\"1\" class=\"dataframe\">\n",
       "  <thead>\n",
       "    <tr style=\"text-align: right;\">\n",
       "      <th></th>\n",
       "      <th>Year</th>\n",
       "      <th>Value</th>\n",
       "    </tr>\n",
       "  </thead>\n",
       "  <tbody>\n",
       "    <tr>\n",
       "      <th>0</th>\n",
       "      <td>2014</td>\n",
       "      <td>49960.56</td>\n",
       "    </tr>\n",
       "    <tr>\n",
       "      <th>1</th>\n",
       "      <td>2014</td>\n",
       "      <td>0.00</td>\n",
       "    </tr>\n",
       "    <tr>\n",
       "      <th>2</th>\n",
       "      <td>2015</td>\n",
       "      <td>51482.63</td>\n",
       "    </tr>\n",
       "    <tr>\n",
       "      <th>3</th>\n",
       "      <td>2015</td>\n",
       "      <td>0.00</td>\n",
       "    </tr>\n",
       "    <tr>\n",
       "      <th>4</th>\n",
       "      <td>2016</td>\n",
       "      <td>53049.23</td>\n",
       "    </tr>\n",
       "  </tbody>\n",
       "</table>\n",
       "</div>"
      ],
      "text/plain": [
       "   Year     Value\n",
       "0  2014  49960.56\n",
       "1  2014      0.00\n",
       "2  2015  51482.63\n",
       "3  2015      0.00\n",
       "4  2016  53049.23"
      ]
     },
     "execution_count": 162,
     "metadata": {},
     "output_type": "execute_result"
    }
   ],
   "source": [
    "# Narrow the view\n",
    "\n",
    "values = ['Year', 'Value']\n",
    "data[values].head()\n"
   ]
  },
  {
   "cell_type": "code",
   "execution_count": 163,
   "metadata": {
    "pycharm": {
     "name": "#%%\n"
    }
   },
   "outputs": [
    {
     "name": "stdout",
     "output_type": "stream",
     "text": [
      "Sum Columns\n",
      "===========\n",
      " 783233.56\n",
      "\n",
      "Mean Columns\n",
      "============\n",
      " 159.8435836734694\n"
     ]
    }
   ],
   "source": [
    "# Look at sum ... argument axis=0 is for columns; argument axis=1 is for rows\n",
    "print('Sum Columns\\n===========\\n', data['Value'].sum(axis=0))\n",
    "\n",
    "# Look at mean\n",
    "print('\\nMean Columns\\n============\\n', data['Value'].mean(axis=0))"
   ]
  },
  {
   "cell_type": "code",
   "execution_count": 164,
   "metadata": {
    "pycharm": {
     "name": "#%%\n"
    }
   },
   "outputs": [
    {
     "data": {
      "text/plain": [
       "array([2014, 2015, 2016, 2017], dtype=int64)"
      ]
     },
     "execution_count": 164,
     "metadata": {},
     "output_type": "execute_result"
    }
   ],
   "source": [
    "# Let's take a look at the years\n",
    "\n",
    "years = data.Year.unique()\n",
    "years"
   ]
  },
  {
   "cell_type": "code",
   "execution_count": 165,
   "metadata": {
    "pycharm": {
     "name": "#%%\n"
    }
   },
   "outputs": [
    {
     "data": {
      "text/html": [
       "<div>\n",
       "<style scoped>\n",
       "    .dataframe tbody tr th:only-of-type {\n",
       "        vertical-align: middle;\n",
       "    }\n",
       "\n",
       "    .dataframe tbody tr th {\n",
       "        vertical-align: top;\n",
       "    }\n",
       "\n",
       "    .dataframe thead th {\n",
       "        text-align: right;\n",
       "    }\n",
       "</style>\n",
       "<table border=\"1\" class=\"dataframe\">\n",
       "  <thead>\n",
       "    <tr style=\"text-align: right;\">\n",
       "      <th></th>\n",
       "      <th>Domain_Code</th>\n",
       "      <th>Domain</th>\n",
       "      <th>Area_Code</th>\n",
       "      <th>Area</th>\n",
       "      <th>Element_Code</th>\n",
       "      <th>Element</th>\n",
       "      <th>Item_Code</th>\n",
       "      <th>Item</th>\n",
       "      <th>Year_Code</th>\n",
       "      <th>Year</th>\n",
       "      <th>Unit</th>\n",
       "      <th>Value</th>\n",
       "      <th>Flag</th>\n",
       "      <th>Flag_Description</th>\n",
       "      <th>Note</th>\n",
       "    </tr>\n",
       "  </thead>\n",
       "  <tbody>\n",
       "    <tr>\n",
       "      <th>16</th>\n",
       "      <td>FBS</td>\n",
       "      <td>New Food Balances</td>\n",
       "      <td>215</td>\n",
       "      <td>United Republic of Tanzania</td>\n",
       "      <td>5131</td>\n",
       "      <td>Processing</td>\n",
       "      <td>2511</td>\n",
       "      <td>Wheat and products</td>\n",
       "      <td>2014</td>\n",
       "      <td>2014</td>\n",
       "      <td>1000 tonnes</td>\n",
       "      <td>0.0</td>\n",
       "      <td>S</td>\n",
       "      <td>Standardized data</td>\n",
       "      <td>NaN</td>\n",
       "    </tr>\n",
       "    <tr>\n",
       "      <th>33</th>\n",
       "      <td>FBS</td>\n",
       "      <td>New Food Balances</td>\n",
       "      <td>215</td>\n",
       "      <td>United Republic of Tanzania</td>\n",
       "      <td>5131</td>\n",
       "      <td>Processing</td>\n",
       "      <td>2511</td>\n",
       "      <td>Wheat and products</td>\n",
       "      <td>2015</td>\n",
       "      <td>2015</td>\n",
       "      <td>1000 tonnes</td>\n",
       "      <td>0.0</td>\n",
       "      <td>S</td>\n",
       "      <td>Standardized data</td>\n",
       "      <td>NaN</td>\n",
       "    </tr>\n",
       "    <tr>\n",
       "      <th>50</th>\n",
       "      <td>FBS</td>\n",
       "      <td>New Food Balances</td>\n",
       "      <td>215</td>\n",
       "      <td>United Republic of Tanzania</td>\n",
       "      <td>5131</td>\n",
       "      <td>Processing</td>\n",
       "      <td>2511</td>\n",
       "      <td>Wheat and products</td>\n",
       "      <td>2016</td>\n",
       "      <td>2016</td>\n",
       "      <td>1000 tonnes</td>\n",
       "      <td>0.0</td>\n",
       "      <td>S</td>\n",
       "      <td>Standardized data</td>\n",
       "      <td>NaN</td>\n",
       "    </tr>\n",
       "    <tr>\n",
       "      <th>67</th>\n",
       "      <td>FBS</td>\n",
       "      <td>New Food Balances</td>\n",
       "      <td>215</td>\n",
       "      <td>United Republic of Tanzania</td>\n",
       "      <td>5131</td>\n",
       "      <td>Processing</td>\n",
       "      <td>2511</td>\n",
       "      <td>Wheat and products</td>\n",
       "      <td>2017</td>\n",
       "      <td>2017</td>\n",
       "      <td>1000 tonnes</td>\n",
       "      <td>0.0</td>\n",
       "      <td>S</td>\n",
       "      <td>Standardized data</td>\n",
       "      <td>NaN</td>\n",
       "    </tr>\n",
       "    <tr>\n",
       "      <th>84</th>\n",
       "      <td>FBS</td>\n",
       "      <td>New Food Balances</td>\n",
       "      <td>215</td>\n",
       "      <td>United Republic of Tanzania</td>\n",
       "      <td>5131</td>\n",
       "      <td>Processing</td>\n",
       "      <td>2805</td>\n",
       "      <td>Rice and products</td>\n",
       "      <td>2014</td>\n",
       "      <td>2014</td>\n",
       "      <td>1000 tonnes</td>\n",
       "      <td>0.0</td>\n",
       "      <td>S</td>\n",
       "      <td>Standardized data</td>\n",
       "      <td>NaN</td>\n",
       "    </tr>\n",
       "    <tr>\n",
       "      <th>...</th>\n",
       "      <td>...</td>\n",
       "      <td>...</td>\n",
       "      <td>...</td>\n",
       "      <td>...</td>\n",
       "      <td>...</td>\n",
       "      <td>...</td>\n",
       "      <td>...</td>\n",
       "      <td>...</td>\n",
       "      <td>...</td>\n",
       "      <td>...</td>\n",
       "      <td>...</td>\n",
       "      <td>...</td>\n",
       "      <td>...</td>\n",
       "      <td>...</td>\n",
       "      <td>...</td>\n",
       "    </tr>\n",
       "    <tr>\n",
       "      <th>4044</th>\n",
       "      <td>FBS</td>\n",
       "      <td>New Food Balances</td>\n",
       "      <td>215</td>\n",
       "      <td>United Republic of Tanzania</td>\n",
       "      <td>5131</td>\n",
       "      <td>Processing</td>\n",
       "      <td>2735</td>\n",
       "      <td>Meat, Other</td>\n",
       "      <td>2017</td>\n",
       "      <td>2017</td>\n",
       "      <td>1000 tonnes</td>\n",
       "      <td>0.0</td>\n",
       "      <td>S</td>\n",
       "      <td>Standardized data</td>\n",
       "      <td>NaN</td>\n",
       "    </tr>\n",
       "    <tr>\n",
       "      <th>4390</th>\n",
       "      <td>FBS</td>\n",
       "      <td>New Food Balances</td>\n",
       "      <td>215</td>\n",
       "      <td>United Republic of Tanzania</td>\n",
       "      <td>5131</td>\n",
       "      <td>Processing</td>\n",
       "      <td>2848</td>\n",
       "      <td>Milk - Excluding Butter</td>\n",
       "      <td>2014</td>\n",
       "      <td>2014</td>\n",
       "      <td>1000 tonnes</td>\n",
       "      <td>0.0</td>\n",
       "      <td>S</td>\n",
       "      <td>Standardized data</td>\n",
       "      <td>NaN</td>\n",
       "    </tr>\n",
       "    <tr>\n",
       "      <th>4405</th>\n",
       "      <td>FBS</td>\n",
       "      <td>New Food Balances</td>\n",
       "      <td>215</td>\n",
       "      <td>United Republic of Tanzania</td>\n",
       "      <td>5131</td>\n",
       "      <td>Processing</td>\n",
       "      <td>2848</td>\n",
       "      <td>Milk - Excluding Butter</td>\n",
       "      <td>2015</td>\n",
       "      <td>2015</td>\n",
       "      <td>1000 tonnes</td>\n",
       "      <td>0.0</td>\n",
       "      <td>S</td>\n",
       "      <td>Standardized data</td>\n",
       "      <td>NaN</td>\n",
       "    </tr>\n",
       "    <tr>\n",
       "      <th>4420</th>\n",
       "      <td>FBS</td>\n",
       "      <td>New Food Balances</td>\n",
       "      <td>215</td>\n",
       "      <td>United Republic of Tanzania</td>\n",
       "      <td>5131</td>\n",
       "      <td>Processing</td>\n",
       "      <td>2848</td>\n",
       "      <td>Milk - Excluding Butter</td>\n",
       "      <td>2016</td>\n",
       "      <td>2016</td>\n",
       "      <td>1000 tonnes</td>\n",
       "      <td>0.0</td>\n",
       "      <td>S</td>\n",
       "      <td>Standardized data</td>\n",
       "      <td>NaN</td>\n",
       "    </tr>\n",
       "    <tr>\n",
       "      <th>4435</th>\n",
       "      <td>FBS</td>\n",
       "      <td>New Food Balances</td>\n",
       "      <td>215</td>\n",
       "      <td>United Republic of Tanzania</td>\n",
       "      <td>5131</td>\n",
       "      <td>Processing</td>\n",
       "      <td>2848</td>\n",
       "      <td>Milk - Excluding Butter</td>\n",
       "      <td>2017</td>\n",
       "      <td>2017</td>\n",
       "      <td>1000 tonnes</td>\n",
       "      <td>0.0</td>\n",
       "      <td>S</td>\n",
       "      <td>Standardized data</td>\n",
       "      <td>NaN</td>\n",
       "    </tr>\n",
       "  </tbody>\n",
       "</table>\n",
       "<p>131 rows × 15 columns</p>\n",
       "</div>"
      ],
      "text/plain": [
       "     Domain_Code             Domain  Area_Code                         Area  \\\n",
       "16           FBS  New Food Balances        215  United Republic of Tanzania   \n",
       "33           FBS  New Food Balances        215  United Republic of Tanzania   \n",
       "50           FBS  New Food Balances        215  United Republic of Tanzania   \n",
       "67           FBS  New Food Balances        215  United Republic of Tanzania   \n",
       "84           FBS  New Food Balances        215  United Republic of Tanzania   \n",
       "...          ...                ...        ...                          ...   \n",
       "4044         FBS  New Food Balances        215  United Republic of Tanzania   \n",
       "4390         FBS  New Food Balances        215  United Republic of Tanzania   \n",
       "4405         FBS  New Food Balances        215  United Republic of Tanzania   \n",
       "4420         FBS  New Food Balances        215  United Republic of Tanzania   \n",
       "4435         FBS  New Food Balances        215  United Republic of Tanzania   \n",
       "\n",
       "      Element_Code     Element  Item_Code                     Item  Year_Code  \\\n",
       "16            5131  Processing       2511       Wheat and products       2014   \n",
       "33            5131  Processing       2511       Wheat and products       2015   \n",
       "50            5131  Processing       2511       Wheat and products       2016   \n",
       "67            5131  Processing       2511       Wheat and products       2017   \n",
       "84            5131  Processing       2805        Rice and products       2014   \n",
       "...            ...         ...        ...                      ...        ...   \n",
       "4044          5131  Processing       2735              Meat, Other       2017   \n",
       "4390          5131  Processing       2848  Milk - Excluding Butter       2014   \n",
       "4405          5131  Processing       2848  Milk - Excluding Butter       2015   \n",
       "4420          5131  Processing       2848  Milk - Excluding Butter       2016   \n",
       "4435          5131  Processing       2848  Milk - Excluding Butter       2017   \n",
       "\n",
       "      Year         Unit  Value Flag   Flag_Description  Note  \n",
       "16    2014  1000 tonnes    0.0    S  Standardized data   NaN  \n",
       "33    2015  1000 tonnes    0.0    S  Standardized data   NaN  \n",
       "50    2016  1000 tonnes    0.0    S  Standardized data   NaN  \n",
       "67    2017  1000 tonnes    0.0    S  Standardized data   NaN  \n",
       "84    2014  1000 tonnes    0.0    S  Standardized data   NaN  \n",
       "...    ...          ...    ...  ...                ...   ...  \n",
       "4044  2017  1000 tonnes    0.0    S  Standardized data   NaN  \n",
       "4390  2014  1000 tonnes    0.0    S  Standardized data   NaN  \n",
       "4405  2015  1000 tonnes    0.0    S  Standardized data   NaN  \n",
       "4420  2016  1000 tonnes    0.0    S  Standardized data   NaN  \n",
       "4435  2017  1000 tonnes    0.0    S  Standardized data   NaN  \n",
       "\n",
       "[131 rows x 15 columns]"
      ]
     },
     "execution_count": 165,
     "metadata": {},
     "output_type": "execute_result"
    }
   ],
   "source": [
    "# Tinker around with some filtering options\n",
    "\n",
    "data[(data.Value < 1000000) & (data.Element  == \"Processing\")]"
   ]
  },
  {
   "cell_type": "code",
   "execution_count": 166,
   "metadata": {
    "pycharm": {
     "name": "#%%\n"
    }
   },
   "outputs": [
    {
     "data": {
      "text/html": [
       "<div>\n",
       "<style scoped>\n",
       "    .dataframe tbody tr th:only-of-type {\n",
       "        vertical-align: middle;\n",
       "    }\n",
       "\n",
       "    .dataframe tbody tr th {\n",
       "        vertical-align: top;\n",
       "    }\n",
       "\n",
       "    .dataframe thead th {\n",
       "        text-align: right;\n",
       "    }\n",
       "</style>\n",
       "<table border=\"1\" class=\"dataframe\">\n",
       "  <thead>\n",
       "    <tr style=\"text-align: right;\">\n",
       "      <th></th>\n",
       "      <th>Area_Code</th>\n",
       "      <th>Element_Code</th>\n",
       "      <th>Item_Code</th>\n",
       "      <th>Year_Code</th>\n",
       "      <th>Year</th>\n",
       "      <th>Value</th>\n",
       "      <th>Note</th>\n",
       "    </tr>\n",
       "  </thead>\n",
       "  <tbody>\n",
       "    <tr>\n",
       "      <th>count</th>\n",
       "      <td>4900.0</td>\n",
       "      <td>4900.000000</td>\n",
       "      <td>4900.000000</td>\n",
       "      <td>4900.000000</td>\n",
       "      <td>4900.000000</td>\n",
       "      <td>4900.000000</td>\n",
       "      <td>0.0</td>\n",
       "    </tr>\n",
       "    <tr>\n",
       "      <th>mean</th>\n",
       "      <td>215.0</td>\n",
       "      <td>3951.077347</td>\n",
       "      <td>2622.866122</td>\n",
       "      <td>2015.502449</td>\n",
       "      <td>2015.502449</td>\n",
       "      <td>159.843584</td>\n",
       "      <td>NaN</td>\n",
       "    </tr>\n",
       "    <tr>\n",
       "      <th>std</th>\n",
       "      <td>0.0</td>\n",
       "      <td>2151.401501</td>\n",
       "      <td>90.609476</td>\n",
       "      <td>1.118693</td>\n",
       "      <td>1.118693</td>\n",
       "      <td>1577.202540</td>\n",
       "      <td>NaN</td>\n",
       "    </tr>\n",
       "    <tr>\n",
       "      <th>min</th>\n",
       "      <td>215.0</td>\n",
       "      <td>511.000000</td>\n",
       "      <td>2501.000000</td>\n",
       "      <td>2014.000000</td>\n",
       "      <td>2014.000000</td>\n",
       "      <td>-302.000000</td>\n",
       "      <td>NaN</td>\n",
       "    </tr>\n",
       "    <tr>\n",
       "      <th>25%</th>\n",
       "      <td>215.0</td>\n",
       "      <td>684.000000</td>\n",
       "      <td>2551.000000</td>\n",
       "      <td>2015.000000</td>\n",
       "      <td>2015.000000</td>\n",
       "      <td>0.000000</td>\n",
       "      <td>NaN</td>\n",
       "    </tr>\n",
       "    <tr>\n",
       "      <th>50%</th>\n",
       "      <td>215.0</td>\n",
       "      <td>5142.000000</td>\n",
       "      <td>2602.000000</td>\n",
       "      <td>2016.000000</td>\n",
       "      <td>2016.000000</td>\n",
       "      <td>0.140000</td>\n",
       "      <td>NaN</td>\n",
       "    </tr>\n",
       "    <tr>\n",
       "      <th>75%</th>\n",
       "      <td>215.0</td>\n",
       "      <td>5511.000000</td>\n",
       "      <td>2659.000000</td>\n",
       "      <td>2017.000000</td>\n",
       "      <td>2017.000000</td>\n",
       "      <td>12.000000</td>\n",
       "      <td>NaN</td>\n",
       "    </tr>\n",
       "    <tr>\n",
       "      <th>max</th>\n",
       "      <td>215.0</td>\n",
       "      <td>5911.000000</td>\n",
       "      <td>2899.000000</td>\n",
       "      <td>2017.000000</td>\n",
       "      <td>2017.000000</td>\n",
       "      <td>54660.340000</td>\n",
       "      <td>NaN</td>\n",
       "    </tr>\n",
       "  </tbody>\n",
       "</table>\n",
       "</div>"
      ],
      "text/plain": [
       "       Area_Code  Element_Code    Item_Code    Year_Code         Year  \\\n",
       "count     4900.0   4900.000000  4900.000000  4900.000000  4900.000000   \n",
       "mean       215.0   3951.077347  2622.866122  2015.502449  2015.502449   \n",
       "std          0.0   2151.401501    90.609476     1.118693     1.118693   \n",
       "min        215.0    511.000000  2501.000000  2014.000000  2014.000000   \n",
       "25%        215.0    684.000000  2551.000000  2015.000000  2015.000000   \n",
       "50%        215.0   5142.000000  2602.000000  2016.000000  2016.000000   \n",
       "75%        215.0   5511.000000  2659.000000  2017.000000  2017.000000   \n",
       "max        215.0   5911.000000  2899.000000  2017.000000  2017.000000   \n",
       "\n",
       "              Value  Note  \n",
       "count   4900.000000   0.0  \n",
       "mean     159.843584   NaN  \n",
       "std     1577.202540   NaN  \n",
       "min     -302.000000   NaN  \n",
       "25%        0.000000   NaN  \n",
       "50%        0.140000   NaN  \n",
       "75%       12.000000   NaN  \n",
       "max    54660.340000   NaN  "
      ]
     },
     "execution_count": 166,
     "metadata": {},
     "output_type": "execute_result"
    }
   ],
   "source": [
    "# Look at everything\n",
    "\n",
    "data.describe()"
   ]
  },
  {
   "cell_type": "code",
   "execution_count": 167,
   "metadata": {
    "pycharm": {
     "name": "#%%\n"
    }
   },
   "outputs": [
    {
     "data": {
      "text/html": [
       "<div>\n",
       "<style scoped>\n",
       "    .dataframe tbody tr th:only-of-type {\n",
       "        vertical-align: middle;\n",
       "    }\n",
       "\n",
       "    .dataframe tbody tr th {\n",
       "        vertical-align: top;\n",
       "    }\n",
       "\n",
       "    .dataframe thead tr th {\n",
       "        text-align: left;\n",
       "    }\n",
       "\n",
       "    .dataframe thead tr:last-of-type th {\n",
       "        text-align: right;\n",
       "    }\n",
       "</style>\n",
       "<table border=\"1\" class=\"dataframe\">\n",
       "  <thead>\n",
       "    <tr>\n",
       "      <th></th>\n",
       "      <th colspan=\"8\" halign=\"left\">Area_Code</th>\n",
       "      <th colspan=\"2\" halign=\"left\">Element_Code</th>\n",
       "      <th>...</th>\n",
       "      <th colspan=\"2\" halign=\"left\">Value</th>\n",
       "      <th colspan=\"8\" halign=\"left\">Note</th>\n",
       "    </tr>\n",
       "    <tr>\n",
       "      <th></th>\n",
       "      <th>count</th>\n",
       "      <th>mean</th>\n",
       "      <th>std</th>\n",
       "      <th>min</th>\n",
       "      <th>25%</th>\n",
       "      <th>50%</th>\n",
       "      <th>75%</th>\n",
       "      <th>max</th>\n",
       "      <th>count</th>\n",
       "      <th>mean</th>\n",
       "      <th>...</th>\n",
       "      <th>75%</th>\n",
       "      <th>max</th>\n",
       "      <th>count</th>\n",
       "      <th>mean</th>\n",
       "      <th>std</th>\n",
       "      <th>min</th>\n",
       "      <th>25%</th>\n",
       "      <th>50%</th>\n",
       "      <th>75%</th>\n",
       "      <th>max</th>\n",
       "    </tr>\n",
       "    <tr>\n",
       "      <th>Year</th>\n",
       "      <th></th>\n",
       "      <th></th>\n",
       "      <th></th>\n",
       "      <th></th>\n",
       "      <th></th>\n",
       "      <th></th>\n",
       "      <th></th>\n",
       "      <th></th>\n",
       "      <th></th>\n",
       "      <th></th>\n",
       "      <th></th>\n",
       "      <th></th>\n",
       "      <th></th>\n",
       "      <th></th>\n",
       "      <th></th>\n",
       "      <th></th>\n",
       "      <th></th>\n",
       "      <th></th>\n",
       "      <th></th>\n",
       "      <th></th>\n",
       "      <th></th>\n",
       "    </tr>\n",
       "  </thead>\n",
       "  <tbody>\n",
       "    <tr>\n",
       "      <th>2014</th>\n",
       "      <td>1222.0</td>\n",
       "      <td>215.0</td>\n",
       "      <td>0.0</td>\n",
       "      <td>215.0</td>\n",
       "      <td>215.0</td>\n",
       "      <td>215.0</td>\n",
       "      <td>215.0</td>\n",
       "      <td>215.0</td>\n",
       "      <td>1222.0</td>\n",
       "      <td>3947.866612</td>\n",
       "      <td>...</td>\n",
       "      <td>13.0</td>\n",
       "      <td>49960.56</td>\n",
       "      <td>0.0</td>\n",
       "      <td>NaN</td>\n",
       "      <td>NaN</td>\n",
       "      <td>NaN</td>\n",
       "      <td>NaN</td>\n",
       "      <td>NaN</td>\n",
       "      <td>NaN</td>\n",
       "      <td>NaN</td>\n",
       "    </tr>\n",
       "    <tr>\n",
       "      <th>2015</th>\n",
       "      <td>1225.0</td>\n",
       "      <td>215.0</td>\n",
       "      <td>0.0</td>\n",
       "      <td>215.0</td>\n",
       "      <td>215.0</td>\n",
       "      <td>215.0</td>\n",
       "      <td>215.0</td>\n",
       "      <td>215.0</td>\n",
       "      <td>1225.0</td>\n",
       "      <td>3951.608163</td>\n",
       "      <td>...</td>\n",
       "      <td>13.0</td>\n",
       "      <td>51482.63</td>\n",
       "      <td>0.0</td>\n",
       "      <td>NaN</td>\n",
       "      <td>NaN</td>\n",
       "      <td>NaN</td>\n",
       "      <td>NaN</td>\n",
       "      <td>NaN</td>\n",
       "      <td>NaN</td>\n",
       "      <td>NaN</td>\n",
       "    </tr>\n",
       "    <tr>\n",
       "      <th>2016</th>\n",
       "      <td>1222.0</td>\n",
       "      <td>215.0</td>\n",
       "      <td>0.0</td>\n",
       "      <td>215.0</td>\n",
       "      <td>215.0</td>\n",
       "      <td>215.0</td>\n",
       "      <td>215.0</td>\n",
       "      <td>215.0</td>\n",
       "      <td>1222.0</td>\n",
       "      <td>3948.832242</td>\n",
       "      <td>...</td>\n",
       "      <td>12.0</td>\n",
       "      <td>53049.23</td>\n",
       "      <td>0.0</td>\n",
       "      <td>NaN</td>\n",
       "      <td>NaN</td>\n",
       "      <td>NaN</td>\n",
       "      <td>NaN</td>\n",
       "      <td>NaN</td>\n",
       "      <td>NaN</td>\n",
       "      <td>NaN</td>\n",
       "    </tr>\n",
       "    <tr>\n",
       "      <th>2017</th>\n",
       "      <td>1231.0</td>\n",
       "      <td>215.0</td>\n",
       "      <td>0.0</td>\n",
       "      <td>215.0</td>\n",
       "      <td>215.0</td>\n",
       "      <td>215.0</td>\n",
       "      <td>215.0</td>\n",
       "      <td>215.0</td>\n",
       "      <td>1231.0</td>\n",
       "      <td>3955.965069</td>\n",
       "      <td>...</td>\n",
       "      <td>11.0</td>\n",
       "      <td>54660.34</td>\n",
       "      <td>0.0</td>\n",
       "      <td>NaN</td>\n",
       "      <td>NaN</td>\n",
       "      <td>NaN</td>\n",
       "      <td>NaN</td>\n",
       "      <td>NaN</td>\n",
       "      <td>NaN</td>\n",
       "      <td>NaN</td>\n",
       "    </tr>\n",
       "  </tbody>\n",
       "</table>\n",
       "<p>4 rows × 48 columns</p>\n",
       "</div>"
      ],
      "text/plain": [
       "     Area_Code                                                Element_Code  \\\n",
       "         count   mean  std    min    25%    50%    75%    max        count   \n",
       "Year                                                                         \n",
       "2014    1222.0  215.0  0.0  215.0  215.0  215.0  215.0  215.0       1222.0   \n",
       "2015    1225.0  215.0  0.0  215.0  215.0  215.0  215.0  215.0       1225.0   \n",
       "2016    1222.0  215.0  0.0  215.0  215.0  215.0  215.0  215.0       1222.0   \n",
       "2017    1231.0  215.0  0.0  215.0  215.0  215.0  215.0  215.0       1231.0   \n",
       "\n",
       "                   ... Value            Note                               \n",
       "             mean  ...   75%       max count mean std min 25% 50% 75% max  \n",
       "Year               ...                                                     \n",
       "2014  3947.866612  ...  13.0  49960.56   0.0  NaN NaN NaN NaN NaN NaN NaN  \n",
       "2015  3951.608163  ...  13.0  51482.63   0.0  NaN NaN NaN NaN NaN NaN NaN  \n",
       "2016  3948.832242  ...  12.0  53049.23   0.0  NaN NaN NaN NaN NaN NaN NaN  \n",
       "2017  3955.965069  ...  11.0  54660.34   0.0  NaN NaN NaN NaN NaN NaN NaN  \n",
       "\n",
       "[4 rows x 48 columns]"
      ]
     },
     "execution_count": 167,
     "metadata": {},
     "output_type": "execute_result"
    }
   ],
   "source": [
    "# Group by prop type\n",
    "\n",
    "data_by_year = data.groupby('Year')\n",
    "data_by_year.describe()"
   ]
  },
  {
   "cell_type": "code",
   "execution_count": 168,
   "metadata": {
    "pycharm": {
     "name": "#%%\n"
    }
   },
   "outputs": [
    {
     "data": {
      "text/html": [
       "<div>\n",
       "<style scoped>\n",
       "    .dataframe tbody tr th:only-of-type {\n",
       "        vertical-align: middle;\n",
       "    }\n",
       "\n",
       "    .dataframe tbody tr th {\n",
       "        vertical-align: top;\n",
       "    }\n",
       "\n",
       "    .dataframe thead th {\n",
       "        text-align: right;\n",
       "    }\n",
       "</style>\n",
       "<table border=\"1\" class=\"dataframe\">\n",
       "  <thead>\n",
       "    <tr style=\"text-align: right;\">\n",
       "      <th></th>\n",
       "      <th>Year</th>\n",
       "      <th>Value</th>\n",
       "    </tr>\n",
       "    <tr>\n",
       "      <th>Year</th>\n",
       "      <th></th>\n",
       "      <th></th>\n",
       "    </tr>\n",
       "  </thead>\n",
       "  <tbody>\n",
       "    <tr>\n",
       "      <th>2014</th>\n",
       "      <td>2014</td>\n",
       "      <td>159.466268</td>\n",
       "    </tr>\n",
       "    <tr>\n",
       "      <th>2015</th>\n",
       "      <td>2015</td>\n",
       "      <td>162.623592</td>\n",
       "    </tr>\n",
       "    <tr>\n",
       "      <th>2016</th>\n",
       "      <td>2016</td>\n",
       "      <td>158.545597</td>\n",
       "    </tr>\n",
       "    <tr>\n",
       "      <th>2017</th>\n",
       "      <td>2017</td>\n",
       "      <td>158.740179</td>\n",
       "    </tr>\n",
       "  </tbody>\n",
       "</table>\n",
       "</div>"
      ],
      "text/plain": [
       "      Year       Value\n",
       "Year                  \n",
       "2014  2014  159.466268\n",
       "2015  2015  162.623592\n",
       "2016  2016  158.545597\n",
       "2017  2017  158.740179"
      ]
     },
     "execution_count": 168,
     "metadata": {},
     "output_type": "execute_result"
    }
   ],
   "source": [
    "# Zoom in\n",
    "\n",
    "data_by_year[['Year', 'Value']].mean()"
   ]
  },
  {
   "cell_type": "markdown",
   "metadata": {},
   "source": [
    "### 3. [Linear Regression](https://scikit-learn.org/stable/modules/linear_model.html) with Scikit Learn"
   ]
  },
  {
   "cell_type": "code",
   "execution_count": 169,
   "metadata": {
    "pycharm": {
     "name": "#%%\n"
    }
   },
   "outputs": [],
   "source": [
    "# Import sklearn\n",
    "\n",
    "from sklearn import datasets, linear_model\n",
    "from sklearn.metrics import mean_squared_error, r2_score\n"
   ]
  },
  {
   "cell_type": "code",
   "execution_count": 170,
   "metadata": {
    "pycharm": {
     "name": "#%%\n"
    }
   },
   "outputs": [],
   "source": [
    "# Define model\n",
    "\n",
    "regr = linear_model.LinearRegression()\n"
   ]
  },
  {
   "cell_type": "code",
   "execution_count": 171,
   "metadata": {
    "pycharm": {
     "name": "#%%\n"
    }
   },
   "outputs": [],
   "source": [
    "# Define label and features (adjustable)\n",
    "\n",
    "label = ['Value']\n",
    "features = ['Area_Code', 'Element_Code', 'Item_Code', 'Year_Code']"
   ]
  },
  {
   "cell_type": "code",
   "execution_count": 172,
   "metadata": {
    "pycharm": {
     "name": "#%%\n"
    }
   },
   "outputs": [
    {
     "name": "stdout",
     "output_type": "stream",
     "text": [
      "      Value  Area_Code  Element_Code  Item_Code  Year_Code\n",
      "0  49960.56        215           511       2501       2014\n",
      "1  51482.63        215           511       2501       2015\n",
      "2  53049.23        215           511       2501       2016\n",
      "3  54660.34        215           511       2501       2017\n",
      "4    167.00        215          5511       2511       2014\n",
      "Features:  ['Area_Code', 'Element_Code', 'Item_Code', 'Year_Code']\n"
     ]
    }
   ],
   "source": [
    "# Filter out empties\n",
    "\n",
    "filter_data = data.copy()\n",
    "\n",
    "# Additional\n",
    "filter_data = filter_data[filter_data['Value'] > 0]\n",
    "\n",
    "# Apply to all\n",
    "for f in features + label:\n",
    "    # Out empties - (v. imputation)\n",
    "    filter_data = filter_data[filter_data[f].notna()]\n",
    "    \n",
    "    # Interaction terms\n",
    "    \n",
    "    # Standardize\n",
    "#fk    filter_data[f] = (filter_data[f] - filter_data[f].mean()) / filter_data[f].std()\n",
    "    \n",
    "    # v. Normalize\n",
    "#fk    filter_data[f] = (filter_data[f] - filter_data[f].min()) / (filter_data[f].max() - filter_data[f].min())\n",
    "    \n",
    "filter_data = filter_data.reset_index()\n",
    "\n",
    "print(filter_data[label + features].head())\n",
    "print('Features: ', features)"
   ]
  },
  {
   "cell_type": "code",
   "execution_count": 173,
   "metadata": {
    "pycharm": {
     "name": "#%%\n"
    }
   },
   "outputs": [],
   "source": [
    "# Extract features and label\n",
    "\n",
    "label = filter_data[label]\n",
    "features = filter_data[features]"
   ]
  },
  {
   "cell_type": "code",
   "execution_count": 175,
   "metadata": {
    "pycharm": {
     "name": "#%%\n"
    }
   },
   "outputs": [
    {
     "name": "stdout",
     "output_type": "stream",
     "text": [
      "Features Shape: (2726, 4)\n",
      "Label Shape: (2726, 1)\n"
     ]
    }
   ],
   "source": [
    "# Take a look at the shapes for 'labels' and 'features'\n",
    "print('Features Shape:', features.shape) #  n rows and m columns\n",
    "print('Label Shape:', label.shape) #  n rows and 1 column\n",
    "# convert the series elements to int\n",
    "features.loc[:, ('Area_Code')] = features['Area_Code'].astype(int)\n",
    "features.loc[:, ('Element_Code')] = features['Area_Code'].astype(int)\n",
    "features.loc[:, ('Item_Code')] = features['Area_Code'].astype(int)\n",
    "features.loc[:, ('Year_Code')] = features['Area_Code'].astype(int)"
   ]
  },
  {
   "cell_type": "code",
   "execution_count": 176,
   "metadata": {
    "pycharm": {
     "name": "#%%\n"
    }
   },
   "outputs": [
    {
     "name": "stdout",
     "output_type": "stream",
     "text": [
      "Train shape\n",
      "(681, 4) (681, 1)\n",
      "\n",
      "Test shape\n",
      "(2045, 4) (2045, 1)\n"
     ]
    }
   ],
   "source": [
    "# Set up testing and training (adjustable)\n",
    "split = int(len(filter_data) * 0.25)\n",
    "\n",
    "features_train = features[:split]\n",
    "features_test = features[split:]\n",
    "label_train = label[:split]\n",
    "label_test = label[split:]\n",
    "\n",
    "# Check shapes\n",
    "\n",
    "print (\"Train shape\")\n",
    "print (features_train.shape, label_train.shape)\n",
    "print (\"\\nTest shape\")\n",
    "print (features_test.shape, label_test.shape)"
   ]
  },
  {
   "cell_type": "code",
   "execution_count": 177,
   "metadata": {
    "pycharm": {
     "name": "#%%\n"
    }
   },
   "outputs": [
    {
     "data": {
      "text/plain": [
       "LinearRegression()"
      ]
     },
     "execution_count": 177,
     "metadata": {},
     "output_type": "execute_result"
    }
   ],
   "source": [
    "# Fit training sets\n",
    "\n",
    "regr.fit(features_train, label_train)\n"
   ]
  },
  {
   "cell_type": "code",
   "execution_count": 178,
   "metadata": {
    "pycharm": {
     "name": "#%%\n"
    }
   },
   "outputs": [
    {
     "name": "stdout",
     "output_type": "stream",
     "text": [
      "Variance score: -2.43\n"
     ]
    }
   ],
   "source": [
    "# Make predictions using testing set\n",
    "\n",
    "label_pred = regr.predict(features_test)\n",
    "\n",
    "# Explained variance score: 1 is perfect prediction\n",
    "\n",
    "print('Variance score: %.2f' % r2_score(label_test, label_pred))\n"
   ]
  },
  {
   "cell_type": "markdown",
   "metadata": {},
   "source": [
    "### 4. Plot, aka \"Visualize\""
   ]
  },
  {
   "cell_type": "code",
   "execution_count": 179,
   "metadata": {
    "pycharm": {
     "name": "#%%\n"
    }
   },
   "outputs": [],
   "source": [
    "# Import\n",
    "import matplotlib.pyplot as plt"
   ]
  },
  {
   "cell_type": "code",
   "execution_count": 180,
   "metadata": {
    "pycharm": {
     "name": "#%%\n"
    }
   },
   "outputs": [
    {
     "data": {
      "image/png": "[encoded data removed]",
      "text/plain": [
       "<Figure size 1440x360 with 1 Axes>"
      ]
     },
     "metadata": {},
     "output_type": "display_data"
    }
   ],
   "source": [
    "\n",
    "# Plot outputs\n",
    "plt.figure(figsize=(20, 5))\n",
    "plt.scatter(label_test, label_pred, color='black')\n",
    "plt.plot([label_test.min(), label_test.max()], [label_test.min(), label_test.max()], 'k--', lw=4, color='blue')\n",
    "\n",
    "plt.ylabel('Predicted')\n",
    "plt.xlabel('Measured')\n",
    "\n",
    "plt.xticks(())\n",
    "plt.yticks(())\n",
    "\n",
    "plt.show()"
   ]
  },
  {
   "cell_type": "code",
   "execution_count": 181,
   "metadata": {
    "pycharm": {
     "name": "#%%\n"
    }
   },
   "outputs": [
    {
     "data": {
      "image/png": "[encoded data removed]",
      "text/plain": [
       "<Figure size 720x504 with 1 Axes>"
      ]
     },
     "metadata": {
      "needs_background": "light"
     },
     "output_type": "display_data"
    }
   ],
   "source": [
    "# Residual plot\n",
    "\n",
    "plt.figure(figsize=(10, 7))\n",
    "\n",
    "resid = label_test - regr.predict(features_test)\n",
    "\n",
    "plt.axhline(y=0, linestyle='-', linewidth=2, color=\"r\")\n",
    "plt.scatter(x=label_pred, y=resid, alpha=0.5, s=3)\n",
    "\n",
    "plt.title(\"Residual plot\")\n",
    "plt.ylabel(r\"Y-$\\hat Y$\")\n",
    "plt.xlabel(r'$\\hat Y$')\n",
    "plt.tight_layout()\n",
    "plt.show()"
   ]
  },
  {
   "cell_type": "markdown",
   "metadata": {},
   "source": [
    "### 7. Export"
   ]
  },
  {
   "cell_type": "code",
   "execution_count": 182,
   "metadata": {
    "pycharm": {
     "name": "#%%\n"
    }
   },
   "outputs": [
    {
     "data": {
      "text/plain": [
       "['regr.pkl']"
      ]
     },
     "execution_count": 182,
     "metadata": {},
     "output_type": "execute_result"
    }
   ],
   "source": [
    "# Download model as pkl file\n",
    "\n",
    "import joblib\n",
    "joblib.dump(regr, 'regr.pkl')"
   ]
  },
  {
   "cell_type": "code",
   "execution_count": null,
   "metadata": {},
   "outputs": [],
   "source": []
  },
  {
   "cell_type": "markdown",
   "metadata": {},
   "source": [
    "# NFB Predictions"
   ]
  },
  {
   "cell_type": "markdown",
   "metadata": {},
   "source": [
    "### 6. Train Test Split"
   ]
  },
  {
   "cell_type": "code",
   "execution_count": 183,
   "metadata": {
    "pycharm": {
     "name": "#%%\n"
    }
   },
   "outputs": [],
   "source": [
    "# YOUR TURN\n",
    "# Use sklearn train|test|split\n",
    "# Ref. https://scikit-learn.org/stable/modules/generated/sklearn.model_selection.train_test_split.html\n",
    "\n",
    "from sklearn.model_selection import train_test_split\n"
   ]
  },
  {
   "cell_type": "code",
   "execution_count": 184,
   "metadata": {
    "pycharm": {
     "name": "#%%\n"
    }
   },
   "outputs": [],
   "source": [
    "# Init x, y test,train @ 33% size (sklearn)\n",
    "X_train, X_test, y_train, y_test = train_test_split(features, label, test_size=0.33, random_state=42)\n",
    "\n"
   ]
  },
  {
   "cell_type": "code",
   "execution_count": 185,
   "metadata": {
    "pycharm": {
     "name": "#%%\n"
    }
   },
   "outputs": [],
   "source": [
    "# Determine linear_model (sklearn - above))\n",
    "model_regr = linear_model.LinearRegression()\n"
   ]
  },
  {
   "cell_type": "code",
   "execution_count": 186,
   "metadata": {
    "pycharm": {
     "name": "#%%\n"
    }
   },
   "outputs": [
    {
     "data": {
      "text/plain": [
       "LinearRegression()"
      ]
     },
     "execution_count": 186,
     "metadata": {},
     "output_type": "execute_result"
    }
   ],
   "source": [
    "# Train linear_model (sklearn)\n",
    "model_regr.fit(X_train, y_train)\n",
    "# The cell itself executes fine;; it is crashing when Run All .. Check if it is due to Win32"
   ]
  },
  {
   "cell_type": "code",
   "execution_count": 187,
   "metadata": {
    "pycharm": {
     "name": "#%%\n"
    }
   },
   "outputs": [
    {
     "name": "stdout",
     "output_type": "stream",
     "text": [
      "Score: -0.00\n",
      "Variance score: -0.03\n"
     ]
    }
   ],
   "source": [
    "# Score Method 1: (sklearn)\n",
    "# Ref. https://stackoverflow.com/questions/45529907/difference-between-model-score-vs-r2-score\n",
    "#  https://scikit-learn.org/stable/modules/generated/sklearn.model_selection.train_test_split.html\n",
    "\n",
    "y_pred = model_regr.predict(X_test)\n",
    "score = model_regr.score(features, label)\n",
    "print('Score: %.2f' % score)\n",
    "\n",
    "# Score Method 2 (sklearn)\n",
    "print('Variance score: %.2f' % r2_score(y_test, y_pred))\n",
    "\n",
    "# A constant model that always predicts the expected value of y, disregarding the input features, would get a R^2 score of 0.0.\n",
    "# Variance is a measure of how far observed values differ from the average of predicted values, i.e., their difference \n",
    "# from the predicted value mean. The goal is to have a value that is low. "
   ]
  },
  {
   "cell_type": "code",
   "execution_count": 188,
   "metadata": {
    "pycharm": {
     "name": "#%%\n"
    }
   },
   "outputs": [
    {
     "data": {
      "image/png": "[encoded data removed]",
      "text/plain": [
       "<Figure size 1440x360 with 1 Axes>"
      ]
     },
     "metadata": {},
     "output_type": "display_data"
    }
   ],
   "source": [
    "# Plot outputs (matplotlab - above)\n",
    "plt.figure(figsize=(20, 5))\n",
    "plt.scatter(y_test, y_pred, color='black')\n",
    "plt.plot([y_test.min(), y_test.max()], [y_test.min(), y_test.max()], 'k--', lw=4, color='blue')\n",
    "\n",
    "plt.ylabel('Predicted')\n",
    "plt.xlabel('Measured')\n",
    "\n",
    "plt.xticks(())\n",
    "plt.yticks(())\n",
    "\n",
    "plt.show()"
   ]
  },
  {
   "cell_type": "code",
   "execution_count": 189,
   "metadata": {
    "pycharm": {
     "name": "#%%\n"
    }
   },
   "outputs": [
    {
     "data": {
      "text/plain": [
       "['model_regr.pkl']"
      ]
     },
     "execution_count": 189,
     "metadata": {},
     "output_type": "execute_result"
    }
   ],
   "source": [
    "# Download model as pkl file\n",
    "joblib.dump(regr, 'model_regr.pkl')\n"
   ]
  },
  {
   "cell_type": "markdown",
   "metadata": {},
   "source": [
    "### 7. Decision Tree"
   ]
  },
  {
   "cell_type": "code",
   "execution_count": 190,
   "metadata": {
    "pycharm": {
     "name": "#%%\n"
    }
   },
   "outputs": [
    {
     "name": "stdout",
     "output_type": "stream",
     "text": [
      "Decision Tree Regressor Pred:  [325.9095345 325.9095345 325.9095345 325.9095345 325.9095345 325.9095345\n",
      " 325.9095345 325.9095345 325.9095345 325.9095345 325.9095345 325.9095345\n",
      " 325.9095345 325.9095345 325.9095345 325.9095345 325.9095345 325.9095345\n",
      " 325.9095345 325.9095345 325.9095345 325.9095345 325.9095345 325.9095345\n",
      " 325.9095345 325.9095345 325.9095345 325.9095345 325.9095345 325.9095345\n",
      " 325.9095345 325.9095345 325.9095345 325.9095345 325.9095345 325.9095345\n",
      " 325.9095345 325.9095345 325.9095345 325.9095345 325.9095345 325.9095345\n",
      " 325.9095345 325.9095345 325.9095345 325.9095345 325.9095345 325.9095345\n",
      " 325.9095345 325.9095345 325.9095345 325.9095345 325.9095345 325.9095345\n",
      " 325.9095345 325.9095345 325.9095345 325.9095345 325.9095345 325.9095345\n",
      " 325.9095345 325.9095345 325.9095345 325.9095345 325.9095345 325.9095345\n",
      " 325.9095345 325.9095345 325.9095345 325.9095345 325.9095345 325.9095345\n",
      " 325.9095345 325.9095345 325.9095345 325.9095345 325.9095345 325.9095345\n",
      " 325.9095345 325.9095345 325.9095345 325.9095345 325.9095345 325.9095345\n",
      " 325.9095345 325.9095345 325.9095345 325.9095345 325.9095345 325.9095345\n",
      " 325.9095345 325.9095345 325.9095345 325.9095345 325.9095345 325.9095345\n",
      " 325.9095345 325.9095345 325.9095345 325.9095345 325.9095345 325.9095345\n",
      " 325.9095345 325.9095345 325.9095345 325.9095345 325.9095345 325.9095345\n",
      " 325.9095345 325.9095345 325.9095345 325.9095345 325.9095345 325.9095345\n",
      " 325.9095345 325.9095345 325.9095345 325.9095345 325.9095345 325.9095345\n",
      " 325.9095345 325.9095345 325.9095345 325.9095345 325.9095345 325.9095345\n",
      " 325.9095345 325.9095345 325.9095345 325.9095345 325.9095345 325.9095345\n",
      " 325.9095345 325.9095345 325.9095345 325.9095345 325.9095345 325.9095345\n",
      " 325.9095345 325.9095345 325.9095345 325.9095345 325.9095345 325.9095345\n",
      " 325.9095345 325.9095345 325.9095345 325.9095345 325.9095345 325.9095345\n",
      " 325.9095345 325.9095345 325.9095345 325.9095345 325.9095345 325.9095345\n",
      " 325.9095345 325.9095345 325.9095345 325.9095345 325.9095345 325.9095345\n",
      " 325.9095345 325.9095345 325.9095345 325.9095345 325.9095345 325.9095345\n",
      " 325.9095345 325.9095345 325.9095345 325.9095345 325.9095345 325.9095345\n",
      " 325.9095345 325.9095345 325.9095345 325.9095345 325.9095345 325.9095345\n",
      " 325.9095345 325.9095345 325.9095345 325.9095345 325.9095345 325.9095345\n",
      " 325.9095345 325.9095345 325.9095345 325.9095345 325.9095345 325.9095345\n",
      " 325.9095345 325.9095345 325.9095345 325.9095345 325.9095345 325.9095345\n",
      " 325.9095345 325.9095345 325.9095345 325.9095345 325.9095345 325.9095345\n",
      " 325.9095345 325.9095345 325.9095345 325.9095345 325.9095345 325.9095345\n",
      " 325.9095345 325.9095345 325.9095345 325.9095345 325.9095345 325.9095345\n",
      " 325.9095345 325.9095345 325.9095345 325.9095345 325.9095345 325.9095345\n",
      " 325.9095345 325.9095345 325.9095345 325.9095345 325.9095345 325.9095345\n",
      " 325.9095345 325.9095345 325.9095345 325.9095345 325.9095345 325.9095345\n",
      " 325.9095345 325.9095345 325.9095345 325.9095345 325.9095345 325.9095345\n",
      " 325.9095345 325.9095345 325.9095345 325.9095345 325.9095345 325.9095345\n",
      " 325.9095345 325.9095345 325.9095345 325.9095345 325.9095345 325.9095345\n",
      " 325.9095345 325.9095345 325.9095345 325.9095345 325.9095345 325.9095345\n",
      " 325.9095345 325.9095345 325.9095345 325.9095345 325.9095345 325.9095345\n",
      " 325.9095345 325.9095345 325.9095345 325.9095345 325.9095345 325.9095345\n",
      " 325.9095345 325.9095345 325.9095345 325.9095345 325.9095345 325.9095345\n",
      " 325.9095345 325.9095345 325.9095345 325.9095345 325.9095345 325.9095345\n",
      " 325.9095345 325.9095345 325.9095345 325.9095345 325.9095345 325.9095345\n",
      " 325.9095345 325.9095345 325.9095345 325.9095345 325.9095345 325.9095345\n",
      " 325.9095345 325.9095345 325.9095345 325.9095345 325.9095345 325.9095345\n",
      " 325.9095345 325.9095345 325.9095345 325.9095345 325.9095345 325.9095345\n",
      " 325.9095345 325.9095345 325.9095345 325.9095345 325.9095345 325.9095345\n",
      " 325.9095345 325.9095345 325.9095345 325.9095345 325.9095345 325.9095345\n",
      " 325.9095345 325.9095345 325.9095345 325.9095345 325.9095345 325.9095345\n",
      " 325.9095345 325.9095345 325.9095345 325.9095345 325.9095345 325.9095345\n",
      " 325.9095345 325.9095345 325.9095345 325.9095345 325.9095345 325.9095345\n",
      " 325.9095345 325.9095345 325.9095345 325.9095345 325.9095345 325.9095345\n",
      " 325.9095345 325.9095345 325.9095345 325.9095345 325.9095345 325.9095345\n",
      " 325.9095345 325.9095345 325.9095345 325.9095345 325.9095345 325.9095345\n",
      " 325.9095345 325.9095345 325.9095345 325.9095345 325.9095345 325.9095345\n",
      " 325.9095345 325.9095345 325.9095345 325.9095345 325.9095345 325.9095345\n",
      " 325.9095345 325.9095345 325.9095345 325.9095345 325.9095345 325.9095345\n",
      " 325.9095345 325.9095345 325.9095345 325.9095345 325.9095345 325.9095345\n",
      " 325.9095345 325.9095345 325.9095345 325.9095345 325.9095345 325.9095345\n",
      " 325.9095345 325.9095345 325.9095345 325.9095345 325.9095345 325.9095345\n",
      " 325.9095345 325.9095345 325.9095345 325.9095345 325.9095345 325.9095345\n",
      " 325.9095345 325.9095345 325.9095345 325.9095345 325.9095345 325.9095345\n",
      " 325.9095345 325.9095345 325.9095345 325.9095345 325.9095345 325.9095345\n",
      " 325.9095345 325.9095345 325.9095345 325.9095345 325.9095345 325.9095345\n",
      " 325.9095345 325.9095345 325.9095345 325.9095345 325.9095345 325.9095345\n",
      " 325.9095345 325.9095345 325.9095345 325.9095345 325.9095345 325.9095345\n",
      " 325.9095345 325.9095345 325.9095345 325.9095345 325.9095345 325.9095345\n",
      " 325.9095345 325.9095345 325.9095345 325.9095345 325.9095345 325.9095345\n",
      " 325.9095345 325.9095345 325.9095345 325.9095345 325.9095345 325.9095345\n",
      " 325.9095345 325.9095345 325.9095345 325.9095345 325.9095345 325.9095345\n",
      " 325.9095345 325.9095345 325.9095345 325.9095345 325.9095345 325.9095345\n",
      " 325.9095345 325.9095345 325.9095345 325.9095345 325.9095345 325.9095345\n",
      " 325.9095345 325.9095345 325.9095345 325.9095345 325.9095345 325.9095345\n",
      " 325.9095345 325.9095345 325.9095345 325.9095345 325.9095345 325.9095345\n",
      " 325.9095345 325.9095345 325.9095345 325.9095345 325.9095345 325.9095345\n",
      " 325.9095345 325.9095345 325.9095345 325.9095345 325.9095345 325.9095345\n",
      " 325.9095345 325.9095345 325.9095345 325.9095345 325.9095345 325.9095345\n",
      " 325.9095345 325.9095345 325.9095345 325.9095345 325.9095345 325.9095345\n",
      " 325.9095345 325.9095345 325.9095345 325.9095345 325.9095345 325.9095345\n",
      " 325.9095345 325.9095345 325.9095345 325.9095345 325.9095345 325.9095345\n",
      " 325.9095345 325.9095345 325.9095345 325.9095345 325.9095345 325.9095345\n",
      " 325.9095345 325.9095345 325.9095345 325.9095345 325.9095345 325.9095345\n",
      " 325.9095345 325.9095345 325.9095345 325.9095345 325.9095345 325.9095345\n",
      " 325.9095345 325.9095345 325.9095345 325.9095345 325.9095345 325.9095345\n",
      " 325.9095345 325.9095345 325.9095345 325.9095345 325.9095345 325.9095345\n",
      " 325.9095345 325.9095345 325.9095345 325.9095345 325.9095345 325.9095345\n",
      " 325.9095345 325.9095345 325.9095345 325.9095345 325.9095345 325.9095345\n",
      " 325.9095345 325.9095345 325.9095345 325.9095345 325.9095345 325.9095345\n",
      " 325.9095345 325.9095345 325.9095345 325.9095345 325.9095345 325.9095345\n",
      " 325.9095345 325.9095345 325.9095345 325.9095345 325.9095345 325.9095345\n",
      " 325.9095345 325.9095345 325.9095345 325.9095345 325.9095345 325.9095345\n",
      " 325.9095345 325.9095345 325.9095345 325.9095345 325.9095345 325.9095345\n",
      " 325.9095345 325.9095345 325.9095345 325.9095345 325.9095345 325.9095345\n",
      " 325.9095345 325.9095345 325.9095345 325.9095345 325.9095345 325.9095345\n",
      " 325.9095345 325.9095345 325.9095345 325.9095345 325.9095345 325.9095345\n",
      " 325.9095345 325.9095345 325.9095345 325.9095345 325.9095345 325.9095345\n",
      " 325.9095345 325.9095345 325.9095345 325.9095345 325.9095345 325.9095345\n",
      " 325.9095345 325.9095345 325.9095345 325.9095345 325.9095345 325.9095345\n",
      " 325.9095345 325.9095345 325.9095345 325.9095345 325.9095345 325.9095345\n",
      " 325.9095345 325.9095345 325.9095345 325.9095345 325.9095345 325.9095345\n",
      " 325.9095345 325.9095345 325.9095345 325.9095345 325.9095345 325.9095345\n",
      " 325.9095345 325.9095345 325.9095345 325.9095345 325.9095345 325.9095345\n",
      " 325.9095345 325.9095345 325.9095345 325.9095345 325.9095345 325.9095345\n",
      " 325.9095345 325.9095345 325.9095345 325.9095345 325.9095345 325.9095345\n",
      " 325.9095345 325.9095345 325.9095345 325.9095345 325.9095345 325.9095345\n",
      " 325.9095345 325.9095345 325.9095345 325.9095345 325.9095345 325.9095345\n",
      " 325.9095345 325.9095345 325.9095345 325.9095345 325.9095345 325.9095345\n",
      " 325.9095345 325.9095345 325.9095345 325.9095345 325.9095345 325.9095345\n",
      " 325.9095345 325.9095345 325.9095345 325.9095345 325.9095345 325.9095345\n",
      " 325.9095345 325.9095345 325.9095345 325.9095345 325.9095345 325.9095345\n",
      " 325.9095345 325.9095345 325.9095345 325.9095345 325.9095345 325.9095345\n",
      " 325.9095345 325.9095345 325.9095345 325.9095345 325.9095345 325.9095345\n",
      " 325.9095345 325.9095345 325.9095345 325.9095345 325.9095345 325.9095345\n",
      " 325.9095345 325.9095345 325.9095345 325.9095345 325.9095345 325.9095345\n",
      " 325.9095345 325.9095345 325.9095345 325.9095345 325.9095345 325.9095345\n",
      " 325.9095345 325.9095345 325.9095345 325.9095345 325.9095345 325.9095345\n",
      " 325.9095345 325.9095345 325.9095345 325.9095345 325.9095345 325.9095345\n",
      " 325.9095345 325.9095345 325.9095345 325.9095345 325.9095345 325.9095345\n",
      " 325.9095345 325.9095345 325.9095345 325.9095345 325.9095345 325.9095345\n",
      " 325.9095345 325.9095345 325.9095345 325.9095345 325.9095345 325.9095345\n",
      " 325.9095345 325.9095345 325.9095345 325.9095345 325.9095345 325.9095345\n",
      " 325.9095345 325.9095345 325.9095345 325.9095345 325.9095345 325.9095345\n",
      " 325.9095345 325.9095345 325.9095345 325.9095345 325.9095345 325.9095345\n",
      " 325.9095345 325.9095345 325.9095345 325.9095345 325.9095345 325.9095345\n",
      " 325.9095345 325.9095345 325.9095345 325.9095345 325.9095345 325.9095345\n",
      " 325.9095345 325.9095345 325.9095345 325.9095345 325.9095345 325.9095345\n",
      " 325.9095345 325.9095345 325.9095345 325.9095345 325.9095345 325.9095345\n",
      " 325.9095345 325.9095345 325.9095345 325.9095345 325.9095345 325.9095345\n",
      " 325.9095345 325.9095345 325.9095345 325.9095345 325.9095345 325.9095345\n",
      " 325.9095345 325.9095345 325.9095345 325.9095345 325.9095345 325.9095345\n",
      " 325.9095345 325.9095345 325.9095345 325.9095345 325.9095345 325.9095345\n",
      " 325.9095345 325.9095345 325.9095345 325.9095345 325.9095345 325.9095345\n",
      " 325.9095345 325.9095345 325.9095345 325.9095345 325.9095345 325.9095345\n",
      " 325.9095345 325.9095345 325.9095345 325.9095345 325.9095345 325.9095345\n",
      " 325.9095345 325.9095345 325.9095345 325.9095345 325.9095345 325.9095345\n",
      " 325.9095345 325.9095345 325.9095345 325.9095345 325.9095345 325.9095345\n",
      " 325.9095345 325.9095345 325.9095345 325.9095345 325.9095345 325.9095345\n",
      " 325.9095345 325.9095345 325.9095345 325.9095345 325.9095345 325.9095345\n",
      " 325.9095345 325.9095345 325.9095345 325.9095345 325.9095345 325.9095345\n",
      " 325.9095345 325.9095345 325.9095345 325.9095345 325.9095345 325.9095345\n",
      " 325.9095345 325.9095345 325.9095345 325.9095345 325.9095345 325.9095345\n",
      " 325.9095345 325.9095345 325.9095345 325.9095345 325.9095345 325.9095345\n",
      " 325.9095345 325.9095345 325.9095345 325.9095345 325.9095345 325.9095345\n",
      " 325.9095345 325.9095345 325.9095345 325.9095345 325.9095345 325.9095345\n",
      " 325.9095345 325.9095345 325.9095345 325.9095345 325.9095345 325.9095345]\n"
     ]
    }
   ],
   "source": [
    "# YOUR TURN\n",
    "# Run DecisionTreeRegressor\n",
    "# HINT: https://scikit-learn.org/stable/modules/generated/sklearn.tree.DecisionTreeRegressor.html\n",
    "\n",
    "\n",
    "# Create regressor\n",
    "from sklearn.tree import DecisionTreeRegressor\n",
    "\n",
    "#Init model\n",
    "model_dtree_regr = DecisionTreeRegressor(random_state=0) # experiement with values: max_depth=5\n",
    "\n",
    "# Fit\n",
    "model_dtree_regr.fit(X_train, y_train)\n",
    "\n",
    "# Predictions\n",
    "y_dtr_pred = model_dtree_regr.predict(X_test)\n",
    "print('Decision Tree Regressor Pred: ', y_dtr_pred)\n"
   ]
  },
  {
   "cell_type": "code",
   "execution_count": 191,
   "metadata": {},
   "outputs": [
    {
     "name": "stdout",
     "output_type": "stream",
     "text": [
      "Score: -0.00\n",
      "Variance score: -0.03\n"
     ]
    }
   ],
   "source": [
    "# Score\n",
    "\n",
    "score_dtr = model_dtree_regr.score(features, label)\n",
    "print('Score: %.2f' % score_dtr)\n",
    "\n",
    "# Score Method 2 (sklearn)\n",
    "print('Variance score: %.2f' % r2_score(y_test, y_dtr_pred))\n"
   ]
  },
  {
   "cell_type": "code",
   "execution_count": 192,
   "metadata": {},
   "outputs": [
    {
     "data": {
      "image/png": "[encoded data removed]",
      "text/plain": [
       "<Figure size 1440x360 with 1 Axes>"
      ]
     },
     "metadata": {
      "needs_background": "light"
     },
     "output_type": "display_data"
    }
   ],
   "source": [
    "# Plot outputs (matplotlab - above)\n",
    "plt.figure(figsize=(20, 5))\n",
    "plt.scatter(y_test, y_pred, s=20, edgecolor=\"black\",\n",
    "            c=\"darkorange\", label=\"data\")\n",
    "plt.plot([y_test.min(), y_test.max()], [y_test.min(), y_test.max()], 'k--', lw=4, color='blue')\n",
    "plt.xlabel(\"data\")\n",
    "plt.ylabel(\"target\")\n",
    "plt.title(\"Decision Tree Regression\")\n",
    "plt.legend()\n",
    "plt.show()"
   ]
  },
  {
   "cell_type": "code",
   "execution_count": 150,
   "metadata": {},
   "outputs": [
    {
     "data": {
      "text/plain": [
       "['model_dtree_regr.pkl']"
      ]
     },
     "execution_count": 150,
     "metadata": {},
     "output_type": "execute_result"
    }
   ],
   "source": [
    "# Download model as pkl file\n",
    "joblib.dump(model_dtree_regr, 'model_dtree_regr.pkl')\n"
   ]
  },
  {
   "cell_type": "code",
   "execution_count": 210,
   "metadata": {},
   "outputs": [
    {
     "name": "stdout",
     "output_type": "stream",
     "text": [
      "774.2\n",
      "774.2\n",
      "774.2\n",
      "774.2\n",
      "774.2\n"
     ]
    }
   ],
   "source": [
    "model1 = joblib.load('model_regr.pkl')\n",
    "model2 = joblib.load('model_dtree_regr.pkl')\n",
    "#\n",
    "# Make prediction - features = ['Area_Code', 'Element_Code', 'Item_Code', 'Year_Code']\n",
    "#\n",
    "#    Element_Code: 5301(Domestic Suply Quantity); 5911(Export); 5611(Import) ... ))\n",
    "#    Item_Code: 2511(Wheet); 2616(Plantains); 2602(Onions); 2514(Maize) etc...\n",
    "years = [2018, 2019, 2021, 2021, 2022]\n",
    "for y in years:\n",
    "    pred = model1.predict([[215, 5301, 2511, y]])[0][0].round(2)\n",
    "    print(pred)\n",
    "# pred2 = model2.predict([[215, 5301, 2602, 2018]])[0].round(6)\n",
    "# res = \"Linear Regression: \"+str(pred1) + \"\\nDecision Tree Regressor: \"+str(pred2)\n",
    "# print(res)"
   ]
  },
  {
   "cell_type": "markdown",
   "metadata": {},
   "source": [
    "### Ref\n",
    "    + https://stackoverflow.com/questions/26414913/normalize-columns-of-pandas-data-frame"
   ]
  },
  {
   "cell_type": "code",
   "execution_count": null,
   "metadata": {},
   "outputs": [],
   "source": []
  },
  {
   "cell_type": "code",
   "execution_count": null,
   "metadata": {},
   "outputs": [],
   "source": []
  }
 ],
 "metadata": {
  "kernelspec": {
   "display_name": "Python 3",
   "language": "python",
   "name": "python3"
  },
  "language_info": {
   "codemirror_mode": {
    "name": "ipython",
    "version": 3
   },
   "file_extension": ".py",
   "mimetype": "text/x-python",
   "name": "python",
   "nbconvert_exporter": "python",
   "pygments_lexer": "ipython3",
   "version": "3.8.3"
  }
 },
 "nbformat": 4,
 "nbformat_minor": 1
}
